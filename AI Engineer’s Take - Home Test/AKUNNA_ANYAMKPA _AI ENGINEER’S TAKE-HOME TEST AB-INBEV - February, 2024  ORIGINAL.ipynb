{
 "cells": [
  {
   "cell_type": "code",
   "execution_count": 1,
   "id": "df8d5834",
   "metadata": {},
   "outputs": [
    {
     "name": "stdout",
     "output_type": "stream",
     "text": [
      "ee\n",
      "\n",
      "East Repair Inc.\n",
      "\n",
      "1912 Harvest Lane\n",
      "\n",
      "New York, NY 12210\n",
      "\n",
      "BILLTO\n",
      "\n",
      "SHIP TO\n",
      "\n",
      "RECEIPT #\n",
      "\n",
      "uUs-001\n",
      "\n",
      "John Smith,\n",
      "\n",
      "John Smith\n",
      "\n",
      "1102/2019\n",
      "\n",
      "RECEIPT DATE\n",
      "\n",
      "2 Court Square\n",
      "\n",
      "3787 Pineview Drive\n",
      "\n",
      "P.O#\n",
      "\n",
      "2312/2019\n",
      "\n",
      "New York, NY 12210\n",
      "\n",
      "Cambridge, MA 12210\n",
      "\n",
      "DUE DATE\n",
      "\n",
      "26/02/2019\n",
      "\n",
      "Receipt Total\n",
      "\n",
      "$154.06\n",
      "\n",
      "Qty\n",
      "\n",
      "DESCRIPTION\n",
      "\n",
      "UNIT PRICE\n",
      "\n",
      "AMOUNT\n",
      "\n",
      "Front and rear brake cables\n",
      "\n",
      "100.00\n",
      "\n",
      "100.00\n",
      "\n",
      "New set of pedal arms\n",
      "\n",
      "15.00\n",
      "\n",
      "30.00\n",
      "\n",
      "Labor 3hrs\n",
      "\n",
      "5.00\n",
      "\n",
      "15.00\n",
      "\n",
      "Subtotal\n",
      "\n",
      "145.00\n",
      "\n",
      "Sales Tax 6.25%\n",
      "\n",
      "9.08\n",
      "\n",
      "fish\n",
      "\n",
      "TERMS & CONDITIONS\n",
      "\n",
      "Payment is due within 15 days\n",
      "\n",
      "Please make checks payable to: East Repair Inc.\n",
      "\n"
     ]
    }
   ],
   "source": [
    "import pytesseract\n",
    "import PIL.Image\n",
    "import cv2\n",
    "\n",
    "myconfig = r\"--psm 11 --oem 3\"\n",
    "\n",
    "text1 = pytesseract.image_to_string(PIL.Image.open(\"C:/Users/Akunna Anyamkpa/Downloads/Task 1/Receipt1.jpg\"), config=myconfig)\n",
    "print(text1)"
   ]
  },
  {
   "cell_type": "code",
   "execution_count": 2,
   "id": "8fb5817d",
   "metadata": {},
   "outputs": [
    {
     "name": "stdout",
     "output_type": "stream",
     "text": [
      "ABC Furniture Co\n",
      "\n",
      "101 Tree Street\n",
      "\n",
      "Leafy Vale\n",
      "\n",
      "Forrest Town X1203Y\n",
      "\n",
      "Phone:\n",
      "\n",
      "987 12345678\n",
      "\n",
      "Emai\n",
      "\n",
      "abcfurn @allmail.com\n",
      "\n",
      "Fax:\n",
      "\n",
      "987 8765 4321\n",
      "\n",
      "Website:\n",
      "\n",
      "www.ab cfurn.allcom\n",
      "\n",
      "Receipt\n",
      "\n",
      "Mrs Annie Green\n",
      "\n",
      "Date:\n",
      "\n",
      "01/01/2013\n",
      "\n",
      "5 Any Street\n",
      "\n",
      "Reference:\n",
      "\n",
      "AG500\n",
      "\n",
      "Good Suburb\n",
      "\n",
      "Receipt No.\n",
      "\n",
      "001020\n",
      "\n",
      "Forrest Town X2204Y\n",
      "\n",
      "‘Amount Paid\n",
      "\n",
      "Description\n",
      "\n",
      "2 single pine beds— Style 394\n",
      "\n",
      "Notes\n",
      "\n",
      "350.00\n",
      "\n",
      "2.25\n",
      "\n",
      "Signed:\n",
      "\n",
      "E Murphy for ABC Furw Ce:\n",
      "\n",
      "Total Paid\n",
      "\n",
      "$352.25\n",
      "\n",
      "Received with thanks!\n",
      "\n"
     ]
    }
   ],
   "source": [
    "text2 = pytesseract.image_to_string(PIL.Image.open(\"C:/Users/Akunna Anyamkpa/Downloads/Task 1/Receipt2.jpg\"), config=myconfig)\n",
    "print(text2)"
   ]
  },
  {
   "cell_type": "code",
   "execution_count": 3,
   "id": "9d83a591",
   "metadata": {
    "scrolled": false
   },
   "outputs": [
    {
     "name": "stdout",
     "output_type": "stream",
     "text": [
      "WALL-MART-SUPERSTORE\n",
      "\n",
      "(888) 888 - 8888\n",
      "\n",
      "MANAGER TOD LINGA\n",
      "\n",
      "888 WALL STORE ST\n",
      "\n",
      "WALL ST CITY, LA 88888\n",
      "\n",
      "STH 2323 OPE\n",
      "\n",
      "23432436 TEE\n",
      "\n",
      "51\n",
      "\n",
      "TRE 4354\n",
      "\n",
      "HAND TOWEL\n",
      "\n",
      "075953630184\n",
      "\n",
      "2.97X\n",
      "\n",
      "GATORADE\n",
      "\n",
      "068949055223\n",
      "\n",
      "2.00 X\n",
      "\n",
      "T-SHIRT\n",
      "\n",
      "036231852452\n",
      "\n",
      "16.88 X\n",
      "\n",
      "PUSH PINS\n",
      "\n",
      "(088348997350\n",
      "\n",
      "1.24\n",
      "\n",
      "SUBTOTAL\n",
      "\n",
      "23.09\n",
      "\n",
      "TAK 1\n",
      "\n",
      "7.89%\n",
      "\n",
      "2.90\n",
      "\n",
      "TAK 2\n",
      "\n",
      "490%\n",
      "\n",
      "128\n",
      "\n",
      "TOTAL\n",
      "\n",
      "a2\n",
      "\n",
      "CREDIT TEND\n",
      "\n",
      "an\n",
      "\n",
      "CHANGE. DUE\n",
      "\n",
      "0.00\n",
      "\n",
      "ACCOUNT &\n",
      "\n",
      "beak chee 0449999\n",
      "\n",
      "APPROVAL # 77W166\n",
      "\n",
      "REF # 307171075528\n",
      "\n",
      "TERMINAL # 6419885359\n",
      "\n",
      "# ITEMS SOLD 4\n",
      "\n",
      "Tek 1752 6627 3145 9811 0000\n",
      "\n",
      "I\n",
      "\n",
      "l\n",
      "\n",
      "I\n",
      "\n",
      "ll\n",
      "\n",
      "I\n",
      "\n",
      "It\n",
      "\n",
      "Get Fre\n",
      "\n",
      "Holiday Savings by Cell!\n",
      "\n",
      "Thank You for Shopping With Us!\n",
      "\n",
      "10/17/2020\n",
      "\n",
      "16:12\n",
      "\n",
      "‘tes CUSTOMER COPY seve\n",
      "\n"
     ]
    }
   ],
   "source": [
    "text3 = pytesseract.image_to_string(PIL.Image.open(\"C:/Users/Akunna Anyamkpa/Downloads/Task 1/Receipt3.jpg\"), config=myconfig)\n",
    "print(text3)"
   ]
  },
  {
   "cell_type": "code",
   "execution_count": 4,
   "id": "6806f5bb",
   "metadata": {},
   "outputs": [
    {
     "name": "stdout",
     "output_type": "stream",
     "text": [
      "IMAGE 1 LIST ['ee', 'East Repair Inc.', '1912 Harvest Lane', 'New York, NY 12210', 'BILLTO', 'SHIP TO', 'RECEIPT #', 'uUs-001', 'John Smith,', 'John Smith', '1102/2019', 'RECEIPT DATE', '2 Court Square', '3787 Pineview Drive', 'P.O#', '2312/2019', 'New York, NY 12210', 'Cambridge, MA 12210', 'DUE DATE', '26/02/2019', 'Receipt Total', '$154.06', 'Qty', 'DESCRIPTION', 'UNIT PRICE', 'AMOUNT', 'Front and rear brake cables', '100.00', '100.00', 'New set of pedal arms', '15.00', '30.00', 'Labor 3hrs', '5.00', '15.00', 'Subtotal', '145.00', 'Sales Tax 6.25%', '9.08', 'fish', 'TERMS & CONDITIONS', 'Payment is due within 15 days', 'Please make checks payable to: East Repair Inc.\\n']\n"
     ]
    }
   ],
   "source": [
    "image1_list = text1.split('\\n\\n')\n",
    "print(\"IMAGE 1 LIST\", image1_list)"
   ]
  },
  {
   "cell_type": "code",
   "execution_count": 5,
   "id": "97c818cc",
   "metadata": {},
   "outputs": [
    {
     "name": "stdout",
     "output_type": "stream",
     "text": [
      "IMAGE 2 LIST ['ABC Furniture Co', '101 Tree Street', 'Leafy Vale', 'Forrest Town X1203Y', 'Phone:', '987 12345678', 'Emai', 'abcfurn @allmail.com', 'Fax:', '987 8765 4321', 'Website:', 'www.ab cfurn.allcom', 'Receipt', 'Mrs Annie Green', 'Date:', '01/01/2013', '5 Any Street', 'Reference:', 'AG500', 'Good Suburb', 'Receipt No.', '001020', 'Forrest Town X2204Y', '‘Amount Paid', 'Description', '2 single pine beds— Style 394', 'Notes', '350.00', '2.25', 'Signed:', 'E Murphy for ABC Furw Ce:', 'Total Paid', '$352.25', 'Received with thanks!\\n']\n"
     ]
    }
   ],
   "source": [
    "image2_list = text2.split('\\n\\n')\n",
    "print(\"IMAGE 2 LIST\", image2_list)"
   ]
  },
  {
   "cell_type": "code",
   "execution_count": 6,
   "id": "fbd2b035",
   "metadata": {
    "scrolled": true
   },
   "outputs": [
    {
     "name": "stdout",
     "output_type": "stream",
     "text": [
      "IMAGE 1 LIST ['WALL-MART-SUPERSTORE', '(888) 888 - 8888', 'MANAGER TOD LINGA', '888 WALL STORE ST', 'WALL ST CITY, LA 88888', 'STH 2323 OPE', '23432436 TEE', '51', 'TRE 4354', 'HAND TOWEL', '075953630184', '2.97X', 'GATORADE', '068949055223', '2.00 X', 'T-SHIRT', '036231852452', '16.88 X', 'PUSH PINS', '(088348997350', '1.24', 'SUBTOTAL', '23.09', 'TAK 1', '7.89%', '2.90', 'TAK 2', '490%', '128', 'TOTAL', 'a2', 'CREDIT TEND', 'an', 'CHANGE. DUE', '0.00', 'ACCOUNT &', 'beak chee 0449999', 'APPROVAL # 77W166', 'REF # 307171075528', 'TERMINAL # 6419885359', '# ITEMS SOLD 4', 'Tek 1752 6627 3145 9811 0000', 'I', 'l', 'I', 'll', 'I', 'It', 'Get Fre', 'Holiday Savings by Cell!', 'Thank You for Shopping With Us!', '10/17/2020', '16:12', '‘tes CUSTOMER COPY seve\\n']\n"
     ]
    }
   ],
   "source": [
    "image3_list = text3.split('\\n\\n')\n",
    "print(\"IMAGE 3 LIST\", image3_list)"
   ]
  },
  {
   "cell_type": "code",
   "execution_count": 13,
   "id": "1b43511e",
   "metadata": {},
   "outputs": [
    {
     "data": {
      "text/plain": [
       "'23.09'"
      ]
     },
     "execution_count": 13,
     "metadata": {},
     "output_type": "execute_result"
    }
   ],
   "source": [
    "image3_list[22]"
   ]
  },
  {
   "cell_type": "code",
   "execution_count": 7,
   "id": "c4b2cccb",
   "metadata": {},
   "outputs": [
    {
     "data": {
      "text/plain": [
       "43"
      ]
     },
     "execution_count": 7,
     "metadata": {},
     "output_type": "execute_result"
    }
   ],
   "source": [
    "len(image1_list)"
   ]
  },
  {
   "cell_type": "code",
   "execution_count": 8,
   "id": "6ebb3c40",
   "metadata": {},
   "outputs": [
    {
     "data": {
      "text/plain": [
       "34"
      ]
     },
     "execution_count": 8,
     "metadata": {},
     "output_type": "execute_result"
    }
   ],
   "source": [
    "len(image2_list)"
   ]
  },
  {
   "cell_type": "code",
   "execution_count": 9,
   "id": "0c8bb39b",
   "metadata": {},
   "outputs": [
    {
     "data": {
      "text/plain": [
       "54"
      ]
     },
     "execution_count": 9,
     "metadata": {},
     "output_type": "execute_result"
    }
   ],
   "source": [
    "len(image3_list)"
   ]
  },
  {
   "cell_type": "code",
   "execution_count": 10,
   "id": "4e7e3ae5",
   "metadata": {},
   "outputs": [
    {
     "name": "stdout",
     "output_type": "stream",
     "text": [
      "{'Date Issued': '1102/2019', 'Items': ['Front and rear brake cables', 'New set of pedal arms', 'Labor 3hrs'], 'Total Amount': '$154.06'}\n"
     ]
    }
   ],
   "source": [
    "# Create a dictionary to store the result\n",
    "image1_dict = {'Date Issued': image1_list[10], 'Items':[image1_list[26], image1_list[29], image1_list[32]], 'Total Amount':image1_list[21]}\n",
    "\n",
    "\n",
    "# Print or use the result as needed\n",
    "print(image1_dict)"
   ]
  },
  {
   "cell_type": "code",
   "execution_count": 11,
   "id": "3c03c77d",
   "metadata": {},
   "outputs": [
    {
     "name": "stdout",
     "output_type": "stream",
     "text": [
      "{'Date Issued': '01/01/2013', 'Items': '2 single pine beds— Style 394', 'Total Amount': '$352.25'}\n"
     ]
    }
   ],
   "source": [
    "# Create a dictionary to store the result\n",
    "image2_dict = {'Date Issued': image2_list[15], 'Items': image2_list[25], 'Total Amount':image2_list[32]}\n",
    "\n",
    "\n",
    "# Print or use the result as needed\n",
    "print(image2_dict)"
   ]
  },
  {
   "cell_type": "code",
   "execution_count": 12,
   "id": "2476b44f",
   "metadata": {},
   "outputs": [
    {
     "name": "stdout",
     "output_type": "stream",
     "text": [
      "{'Date Issued': '10/17/2020', 'Items': ['HAND TOWEL', 'GATORADE', 'T-SHIRT', 'PUSH PINS'], 'Total Amount': 'a2'}\n"
     ]
    }
   ],
   "source": [
    "# Create a dictionary to store the result\n",
    "image3_dict = {'Date Issued': image3_list[51], 'Items':[image3_list[9], image3_list[12], image3_list[15], image3_list[18]], 'Total Amount':image3_list[30]}\n",
    "\n",
    "\n",
    "# Print or use the result as needed\n",
    "print(image3_dict)"
   ]
  }
 ],
 "metadata": {
  "@webio": {
   "lastCommId": null,
   "lastKernelId": null
  },
  "kernelspec": {
   "display_name": "Python 3",
   "language": "python",
   "name": "python3"
  },
  "language_info": {
   "codemirror_mode": {
    "name": "ipython",
    "version": 3
   },
   "file_extension": ".py",
   "mimetype": "text/x-python",
   "name": "python",
   "nbconvert_exporter": "python",
   "pygments_lexer": "ipython3",
   "version": "3.8.8"
  }
 },
 "nbformat": 4,
 "nbformat_minor": 5
}
