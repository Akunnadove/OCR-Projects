{
 "cells": [
  {
   "cell_type": "markdown",
   "id": "feb91f8c",
   "metadata": {},
   "source": [
    "# AI ENGINEER’S TAKE-HOME TEST AB-INBEV - February, 2024  "
   ]
  },
  {
   "cell_type": "markdown",
   "id": "ae5fad9b",
   "metadata": {},
   "source": [
    "# TASK 1"
   ]
  },
  {
   "cell_type": "markdown",
   "id": "a20a0811",
   "metadata": {},
   "source": [
    "### Import Libraries"
   ]
  },
  {
   "cell_type": "code",
   "execution_count": 1,
   "id": "a1e6fa21",
   "metadata": {},
   "outputs": [],
   "source": [
    "import pytesseract\n",
    "import cv2\n",
    "import pandas as pd\n",
    "from PIL import Image"
   ]
  },
  {
   "cell_type": "markdown",
   "id": "a8d969be",
   "metadata": {},
   "source": [
    "### Define Functions"
   ]
  },
  {
   "cell_type": "markdown",
   "id": "ed04aa5a",
   "metadata": {},
   "source": [
    "#### Use Pytesseract To Get OCR Data - Extract Text - Set The Configuration"
   ]
  },
  {
   "cell_type": "code",
   "execution_count": 2,
   "id": "d1d45eb9",
   "metadata": {},
   "outputs": [],
   "source": [
    "def extract_text(image_path, config=\"--psm 11 --oem 3\"):\n",
    "    \n",
    "    # Text extraction using pytesseract\n",
    "    text = pytesseract.image_to_string(Image.open(image_path), config=config)\n",
    "    \n",
    "    # Split the extracted text line by line \n",
    "    return [line.strip() for line in text.split('\\n\\n') if line.strip()] "
   ]
  },
  {
   "cell_type": "markdown",
   "id": "d437b8aa",
   "metadata": {},
   "source": [
    "#### Create Dictionary and return Date Issued, Items & Total Amount"
   ]
  },
  {
   "cell_type": "code",
   "execution_count": 3,
   "id": "6be9a268",
   "metadata": {},
   "outputs": [],
   "source": [
    "def create_dictionary(info_list, date_index, items_indices, total_index):\n",
    "    return {'Date Issued': info_list[date_index],\n",
    "            'Items': [info_list[i] for i in items_indices], \n",
    "            'Total Amount': info_list[total_index]}"
   ]
  },
  {
   "cell_type": "markdown",
   "id": "2498cb36",
   "metadata": {},
   "source": [
    "### Process the Receipt Images"
   ]
  },
  {
   "cell_type": "markdown",
   "id": "19a65faa",
   "metadata": {},
   "source": [
    "#### Set Image Paths"
   ]
  },
  {
   "cell_type": "code",
   "execution_count": 4,
   "id": "0b5b3a28",
   "metadata": {},
   "outputs": [],
   "source": [
    "image_paths = [\"C:/Users/Akunna Anyamkpa/Downloads/Task 1/Receipt1.jpg\",\n",
    "               \"C:/Users/Akunna Anyamkpa/Downloads/Task 1/Receipt2.jpg\",\n",
    "               \"C:/Users/Akunna Anyamkpa/Downloads/Task 1/Receipt3.jpg\"]"
   ]
  },
  {
   "cell_type": "markdown",
   "id": "f7af8951",
   "metadata": {},
   "source": [
    "#### Let's View The Extracted Text For Each Receipts"
   ]
  },
  {
   "cell_type": "code",
   "execution_count": 5,
   "id": "8eea6e9a",
   "metadata": {
    "scrolled": true
   },
   "outputs": [
    {
     "name": "stdout",
     "output_type": "stream",
     "text": [
      "ee\n",
      "\n",
      "East Repair Inc.\n",
      "\n",
      "1912 Harvest Lane\n",
      "\n",
      "New York, NY 12210\n",
      "\n",
      "BILLTO\n",
      "\n",
      "SHIP TO\n",
      "\n",
      "RECEIPT #\n",
      "\n",
      "uUs-001\n",
      "\n",
      "John Smith,\n",
      "\n",
      "John Smith\n",
      "\n",
      "1102/2019\n",
      "\n",
      "RECEIPT DATE\n",
      "\n",
      "2 Court Square\n",
      "\n",
      "3787 Pineview Drive\n",
      "\n",
      "P.O#\n",
      "\n",
      "2312/2019\n",
      "\n",
      "New York, NY 12210\n",
      "\n",
      "Cambridge, MA 12210\n",
      "\n",
      "DUE DATE\n",
      "\n",
      "26/02/2019\n",
      "\n",
      "Receipt Total\n",
      "\n",
      "$154.06\n",
      "\n",
      "Qty\n",
      "\n",
      "DESCRIPTION\n",
      "\n",
      "UNIT PRICE\n",
      "\n",
      "AMOUNT\n",
      "\n",
      "Front and rear brake cables\n",
      "\n",
      "100.00\n",
      "\n",
      "100.00\n",
      "\n",
      "New set of pedal arms\n",
      "\n",
      "15.00\n",
      "\n",
      "30.00\n",
      "\n",
      "Labor 3hrs\n",
      "\n",
      "5.00\n",
      "\n",
      "15.00\n",
      "\n",
      "Subtotal\n",
      "\n",
      "145.00\n",
      "\n",
      "Sales Tax 6.25%\n",
      "\n",
      "9.08\n",
      "\n",
      "fish\n",
      "\n",
      "TERMS & CONDITIONS\n",
      "\n",
      "Payment is due within 15 days\n",
      "\n",
      "Please make checks payable to: East Repair Inc.\n",
      "\n"
     ]
    }
   ],
   "source": [
    "config=\"--psm 11 --oem 3\"\n",
    "\n",
    "# RECEIPT 1\n",
    "Receipt1_text = pytesseract.image_to_string(Image.open(\"C:/Users/Akunna Anyamkpa/Downloads/Task 1/Receipt1.jpg\"), config=config)\n",
    "\n",
    "print(Receipt1_text)"
   ]
  },
  {
   "cell_type": "code",
   "execution_count": 6,
   "id": "9cb912a1",
   "metadata": {},
   "outputs": [
    {
     "name": "stdout",
     "output_type": "stream",
     "text": [
      "ABC Furniture Co\n",
      "\n",
      "101 Tree Street\n",
      "\n",
      "Leafy Vale\n",
      "\n",
      "Forrest Town X1203Y\n",
      "\n",
      "Phone:\n",
      "\n",
      "987 12345678\n",
      "\n",
      "Emai\n",
      "\n",
      "abcfurn @allmail.com\n",
      "\n",
      "Fax:\n",
      "\n",
      "987 8765 4321\n",
      "\n",
      "Website:\n",
      "\n",
      "www.ab cfurn.allcom\n",
      "\n",
      "Receipt\n",
      "\n",
      "Mrs Annie Green\n",
      "\n",
      "Date:\n",
      "\n",
      "01/01/2013\n",
      "\n",
      "5 Any Street\n",
      "\n",
      "Reference:\n",
      "\n",
      "AG500\n",
      "\n",
      "Good Suburb\n",
      "\n",
      "Receipt No.\n",
      "\n",
      "001020\n",
      "\n",
      "Forrest Town X2204Y\n",
      "\n",
      "‘Amount Paid\n",
      "\n",
      "Description\n",
      "\n",
      "2 single pine beds— Style 394\n",
      "\n",
      "Notes\n",
      "\n",
      "350.00\n",
      "\n",
      "2.25\n",
      "\n",
      "Signed:\n",
      "\n",
      "E Murphy for ABC Furw Ce:\n",
      "\n",
      "Total Paid\n",
      "\n",
      "$352.25\n",
      "\n",
      "Received with thanks!\n",
      "\n"
     ]
    }
   ],
   "source": [
    "# RECEIPT 2\n",
    "Receipt2_text = pytesseract.image_to_string(Image.open(\"C:/Users/Akunna Anyamkpa/Downloads/Task 1/Receipt2.jpg\"), config=config)\n",
    "\n",
    "print(Receipt2_text)"
   ]
  },
  {
   "cell_type": "code",
   "execution_count": 7,
   "id": "f6a705a6",
   "metadata": {},
   "outputs": [
    {
     "name": "stdout",
     "output_type": "stream",
     "text": [
      "WALL-MART-SUPERSTORE\n",
      "\n",
      "(888) 888 - 8888\n",
      "\n",
      "MANAGER TOD LINGA\n",
      "\n",
      "888 WALL STORE ST\n",
      "\n",
      "WALL ST CITY, LA 88888\n",
      "\n",
      "STH 2323 OPE\n",
      "\n",
      "23432436 TEE\n",
      "\n",
      "51\n",
      "\n",
      "TRE 4354\n",
      "\n",
      "HAND TOWEL\n",
      "\n",
      "075953630184\n",
      "\n",
      "2.97X\n",
      "\n",
      "GATORADE\n",
      "\n",
      "068949055223\n",
      "\n",
      "2.00 X\n",
      "\n",
      "T-SHIRT\n",
      "\n",
      "036231852452\n",
      "\n",
      "16.88 X\n",
      "\n",
      "PUSH PINS\n",
      "\n",
      "(088348997350\n",
      "\n",
      "1.24\n",
      "\n",
      "SUBTOTAL\n",
      "\n",
      "23.09\n",
      "\n",
      "TAK 1\n",
      "\n",
      "7.89%\n",
      "\n",
      "2.90\n",
      "\n",
      "TAK 2\n",
      "\n",
      "490%\n",
      "\n",
      "128\n",
      "\n",
      "TOTAL\n",
      "\n",
      "a2\n",
      "\n",
      "CREDIT TEND\n",
      "\n",
      "an\n",
      "\n",
      "CHANGE. DUE\n",
      "\n",
      "0.00\n",
      "\n",
      "ACCOUNT &\n",
      "\n",
      "beak chee 0449999\n",
      "\n",
      "APPROVAL # 77W166\n",
      "\n",
      "REF # 307171075528\n",
      "\n",
      "TERMINAL # 6419885359\n",
      "\n",
      "# ITEMS SOLD 4\n",
      "\n",
      "Tek 1752 6627 3145 9811 0000\n",
      "\n",
      "I\n",
      "\n",
      "l\n",
      "\n",
      "I\n",
      "\n",
      "ll\n",
      "\n",
      "I\n",
      "\n",
      "It\n",
      "\n",
      "Get Fre\n",
      "\n",
      "Holiday Savings by Cell!\n",
      "\n",
      "Thank You for Shopping With Us!\n",
      "\n",
      "10/17/2020\n",
      "\n",
      "16:12\n",
      "\n",
      "‘tes CUSTOMER COPY seve\n",
      "\n"
     ]
    }
   ],
   "source": [
    "# RECEIPT 3\n",
    "Receipt3_text = pytesseract.image_to_string(Image.open(\"C:/Users/Akunna Anyamkpa/Downloads/Task 1/Receipt3.jpg\"), config=config)\n",
    "\n",
    "print(Receipt3_text)"
   ]
  },
  {
   "cell_type": "markdown",
   "id": "7732f484",
   "metadata": {},
   "source": [
    "#### Create Empty Dictionary"
   ]
  },
  {
   "cell_type": "code",
   "execution_count": 8,
   "id": "13b22081",
   "metadata": {},
   "outputs": [],
   "source": [
    "image_dicts = []"
   ]
  },
  {
   "cell_type": "markdown",
   "id": "b2172280",
   "metadata": {},
   "source": [
    "#### Using a for Loop, Extract the Receipt Texts using the Extraction Function, Add texts to the Dictionary and Print the Result."
   ]
  },
  {
   "cell_type": "code",
   "execution_count": 9,
   "id": "58b27123",
   "metadata": {
    "scrolled": true
   },
   "outputs": [
    {
     "name": "stdout",
     "output_type": "stream",
     "text": [
      "Image 1 Dictionary: {'Date Issued': '1102/2019', 'Items': ['Front and rear brake cables', 'New set of pedal arms', 'Labor 3hrs'], 'Total Amount': '$154.06'}\n",
      "Image 2 Dictionary: {'Date Issued': '01/01/2013', 'Items': ['2 single pine beds— Style 394'], 'Total Amount': '$352.25'}\n",
      "Image 3 Dictionary: {'Date Issued': '10/17/2020', 'Items': ['HAND TOWEL', 'GATORADE', 'T-SHIRT', 'PUSH PINS'], 'Total Amount': 'a2'}\n"
     ]
    }
   ],
   "source": [
    "for path in image_paths:\n",
    "    info_list = extract_text(path)\n",
    "    \n",
    "    if path.endswith(\"Receipt1.jpg\"):\n",
    "        date_index, items_indices, total_index = 10, [26, 29, 32], 21\n",
    "    elif path.endswith(\"Receipt2.jpg\"):\n",
    "        date_index, items_indices, total_index = 15, [25], 32\n",
    "    elif path.endswith(\"Receipt3.jpg\"):\n",
    "        date_index, items_indices, total_index = 51, [9, 12, 15, 18], 30\n",
    "        \n",
    "    # Add Elements to  and create the Receipt Image Dictionary\n",
    "    image_dict = create_dictionary(info_list, date_index, items_indices, total_index)\n",
    "    image_dicts.append(image_dict)\n",
    "\n",
    "# Print the Result (Extracted Text Stored in Dictionary)\n",
    "for i, image_dict in enumerate(image_dicts, start=1):\n",
    "    print(f\"Image {i} Dictionary: {image_dict}\")\n"
   ]
  },
  {
   "cell_type": "markdown",
   "id": "8e0d7e1e",
   "metadata": {},
   "source": [
    "# TASK 2"
   ]
  },
  {
   "cell_type": "markdown",
   "id": "85421b62",
   "metadata": {},
   "source": [
    "### Open the Image"
   ]
  },
  {
   "cell_type": "code",
   "execution_count": 10,
   "id": "d0c701c4",
   "metadata": {},
   "outputs": [],
   "source": [
    "image_path = \"C:/Users/Akunna Anyamkpa/Downloads/Task 2/Task2.jpeg\"\n",
    "img = cv2.imread(image_path)"
   ]
  },
  {
   "cell_type": "markdown",
   "id": "6f58832e",
   "metadata": {},
   "source": [
    "### Use pytesseract to get OCR data - Bounding Boxes inclusive"
   ]
  },
  {
   "cell_type": "code",
   "execution_count": 11,
   "id": "539f7f3b",
   "metadata": {},
   "outputs": [],
   "source": [
    "custom_config = r'--psm 11 --oem 3'\n",
    "ocr_data = pytesseract.image_to_data(Image.open(image_path), config=custom_config, output_type=pytesseract.Output.DICT)"
   ]
  },
  {
   "cell_type": "markdown",
   "id": "24d14571",
   "metadata": {},
   "source": [
    "### Extract Text and Y_max Coordinates"
   ]
  },
  {
   "cell_type": "code",
   "execution_count": 12,
   "id": "0e4cf06f",
   "metadata": {
    "scrolled": true
   },
   "outputs": [],
   "source": [
    "texts = []\n",
    "y_max_values = []\n",
    "\n",
    "for i in range(len(ocr_data['text'])):\n",
    "    text = ocr_data['text'][i].strip()\n",
    "    if text:\n",
    "        texts.append(text)\n",
    "        x, y, w, h = ocr_data['left'][i], ocr_data['top'][i], ocr_data['width'][i], ocr_data['height'][i]\n",
    "        y_max_values.append(y + h)"
   ]
  },
  {
   "cell_type": "markdown",
   "id": "96768903",
   "metadata": {},
   "source": [
    "### Combine text and y_max coordinates into a DataFrame"
   ]
  },
  {
   "cell_type": "code",
   "execution_count": 13,
   "id": "cdccae84",
   "metadata": {},
   "outputs": [
    {
     "data": {
      "text/html": [
       "<div>\n",
       "<style scoped>\n",
       "    .dataframe tbody tr th:only-of-type {\n",
       "        vertical-align: middle;\n",
       "    }\n",
       "\n",
       "    .dataframe tbody tr th {\n",
       "        vertical-align: top;\n",
       "    }\n",
       "\n",
       "    .dataframe thead th {\n",
       "        text-align: right;\n",
       "    }\n",
       "</style>\n",
       "<table border=\"1\" class=\"dataframe\">\n",
       "  <thead>\n",
       "    <tr style=\"text-align: right;\">\n",
       "      <th></th>\n",
       "      <th>Text</th>\n",
       "      <th>Y_Max</th>\n",
       "    </tr>\n",
       "  </thead>\n",
       "  <tbody>\n",
       "    <tr>\n",
       "      <th>0</th>\n",
       "      <td>Sis,</td>\n",
       "      <td>261</td>\n",
       "    </tr>\n",
       "    <tr>\n",
       "      <th>1</th>\n",
       "      <td>you</td>\n",
       "      <td>264</td>\n",
       "    </tr>\n",
       "    <tr>\n",
       "      <th>2</th>\n",
       "      <td>owe</td>\n",
       "      <td>254</td>\n",
       "    </tr>\n",
       "    <tr>\n",
       "      <th>3</th>\n",
       "      <td>it</td>\n",
       "      <td>254</td>\n",
       "    </tr>\n",
       "    <tr>\n",
       "      <th>4</th>\n",
       "      <td>to</td>\n",
       "      <td>254</td>\n",
       "    </tr>\n",
       "    <tr>\n",
       "      <th>5</th>\n",
       "      <td>yourself</td>\n",
       "      <td>341</td>\n",
       "    </tr>\n",
       "    <tr>\n",
       "      <th>6</th>\n",
       "      <td>to</td>\n",
       "      <td>331</td>\n",
       "    </tr>\n",
       "    <tr>\n",
       "      <th>7</th>\n",
       "      <td>feel</td>\n",
       "      <td>331</td>\n",
       "    </tr>\n",
       "    <tr>\n",
       "      <th>8</th>\n",
       "      <td>the</td>\n",
       "      <td>331</td>\n",
       "    </tr>\n",
       "    <tr>\n",
       "      <th>9</th>\n",
       "      <td>best</td>\n",
       "      <td>408</td>\n",
       "    </tr>\n",
       "  </tbody>\n",
       "</table>\n",
       "</div>"
      ],
      "text/plain": [
       "       Text  Y_Max\n",
       "0      Sis,    261\n",
       "1       you    264\n",
       "2       owe    254\n",
       "3        it    254\n",
       "4        to    254\n",
       "5  yourself    341\n",
       "6        to    331\n",
       "7      feel    331\n",
       "8       the    331\n",
       "9      best    408"
      ]
     },
     "execution_count": 13,
     "metadata": {},
     "output_type": "execute_result"
    }
   ],
   "source": [
    "df = pd.DataFrame({\"Text\": texts, \"Y_Max\": y_max_values})\n",
    "df.head(10)"
   ]
  },
  {
   "cell_type": "markdown",
   "id": "50842cee",
   "metadata": {},
   "source": [
    "### Sort the DataFrame based on Y_Max (descending order)"
   ]
  },
  {
   "cell_type": "code",
   "execution_count": 14,
   "id": "f74effbb",
   "metadata": {},
   "outputs": [
    {
     "data": {
      "text/html": [
       "<div>\n",
       "<style scoped>\n",
       "    .dataframe tbody tr th:only-of-type {\n",
       "        vertical-align: middle;\n",
       "    }\n",
       "\n",
       "    .dataframe tbody tr th {\n",
       "        vertical-align: top;\n",
       "    }\n",
       "\n",
       "    .dataframe thead th {\n",
       "        text-align: right;\n",
       "    }\n",
       "</style>\n",
       "<table border=\"1\" class=\"dataframe\">\n",
       "  <thead>\n",
       "    <tr style=\"text-align: right;\">\n",
       "      <th></th>\n",
       "      <th>Text</th>\n",
       "      <th>Y_Max</th>\n",
       "    </tr>\n",
       "  </thead>\n",
       "  <tbody>\n",
       "    <tr>\n",
       "      <th>37</th>\n",
       "      <td>year.</td>\n",
       "      <td>1111</td>\n",
       "    </tr>\n",
       "    <tr>\n",
       "      <th>36</th>\n",
       "      <td>your</td>\n",
       "      <td>1111</td>\n",
       "    </tr>\n",
       "    <tr>\n",
       "      <th>35</th>\n",
       "      <td>is</td>\n",
       "      <td>1024</td>\n",
       "    </tr>\n",
       "    <tr>\n",
       "      <th>34</th>\n",
       "      <td>This</td>\n",
       "      <td>1024</td>\n",
       "    </tr>\n",
       "    <tr>\n",
       "      <th>33</th>\n",
       "      <td>had.</td>\n",
       "      <td>1024</td>\n",
       "    </tr>\n",
       "    <tr>\n",
       "      <th>32</th>\n",
       "      <td>ever</td>\n",
       "      <td>1024</td>\n",
       "    </tr>\n",
       "    <tr>\n",
       "      <th>31</th>\n",
       "      <td>you've</td>\n",
       "      <td>957</td>\n",
       "    </tr>\n",
       "    <tr>\n",
       "      <th>29</th>\n",
       "      <td>money</td>\n",
       "      <td>957</td>\n",
       "    </tr>\n",
       "    <tr>\n",
       "      <th>30</th>\n",
       "      <td>than</td>\n",
       "      <td>947</td>\n",
       "    </tr>\n",
       "    <tr>\n",
       "      <th>28</th>\n",
       "      <td>more</td>\n",
       "      <td>870</td>\n",
       "    </tr>\n",
       "  </tbody>\n",
       "</table>\n",
       "</div>"
      ],
      "text/plain": [
       "      Text  Y_Max\n",
       "37   year.   1111\n",
       "36    your   1111\n",
       "35      is   1024\n",
       "34    This   1024\n",
       "33    had.   1024\n",
       "32    ever   1024\n",
       "31  you've    957\n",
       "29   money    957\n",
       "30    than    947\n",
       "28    more    870"
      ]
     },
     "execution_count": 14,
     "metadata": {},
     "output_type": "execute_result"
    }
   ],
   "source": [
    "df_sorted = df.sort_values(by=\"Y_Max\", ascending=False)\n",
    "df_sorted.head(10)"
   ]
  },
  {
   "cell_type": "markdown",
   "id": "debb01e3",
   "metadata": {},
   "source": [
    "### Save the DataFrame to a CSV file"
   ]
  },
  {
   "cell_type": "code",
   "execution_count": 15,
   "id": "7b5fd1ce",
   "metadata": {},
   "outputs": [],
   "source": [
    "csv_path = \"C:/Users/Akunna Anyamkpa/Downloads/Task 2/Task2_data_output.csv\"\n",
    "df_sorted.to_csv(csv_path, index=False)"
   ]
  },
  {
   "cell_type": "markdown",
   "id": "02368bde",
   "metadata": {},
   "source": [
    "### Print the Path to the Saved CSV"
   ]
  },
  {
   "cell_type": "code",
   "execution_count": 16,
   "id": "4df58a22",
   "metadata": {},
   "outputs": [
    {
     "name": "stdout",
     "output_type": "stream",
     "text": [
      "Dataframe saved to CSV: C:/Users/Akunna Anyamkpa/Downloads/Task 2/Task2_data_output.csv\n"
     ]
    }
   ],
   "source": [
    "print(\"Dataframe saved to CSV:\", csv_path)"
   ]
  },
  {
   "cell_type": "markdown",
   "id": "f3f303d4",
   "metadata": {},
   "source": [
    "## REFERENCES"
   ]
  },
  {
   "cell_type": "markdown",
   "id": "b09a5c0c",
   "metadata": {},
   "source": [
    "* NeuralNine: https://www.youtube.com/watch?v=PY_N1XdFp4w&t=1375s\n",
    "* Python Tutorials for Digital Humanities https://www.youtube.com/watch?v=DXYPXZH2eGE&list=PL2VXyKi-KpYuTAZz__9KVl1jQz74bDG7i&index=6"
   ]
  }
 ],
 "metadata": {
  "@webio": {
   "lastCommId": null,
   "lastKernelId": null
  },
  "kernelspec": {
   "display_name": "Python 3",
   "language": "python",
   "name": "python3"
  },
  "language_info": {
   "codemirror_mode": {
    "name": "ipython",
    "version": 3
   },
   "file_extension": ".py",
   "mimetype": "text/x-python",
   "name": "python",
   "nbconvert_exporter": "python",
   "pygments_lexer": "ipython3",
   "version": "3.8.8"
  }
 },
 "nbformat": 4,
 "nbformat_minor": 5
}
